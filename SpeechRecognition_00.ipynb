{
  "nbformat": 4,
  "nbformat_minor": 0,
  "metadata": {
    "colab": {
      "name": "SpeechRecognition_00.ipynb",
      "provenance": [],
      "authorship_tag": "ABX9TyMnwt/1eqd2kVbJHJgOk9FO",
      "include_colab_link": true
    },
    "kernelspec": {
      "name": "python3",
      "display_name": "Python 3"
    },
    "language_info": {
      "name": "python"
    }
  },
  "cells": [
    {
      "cell_type": "markdown",
      "metadata": {
        "id": "view-in-github",
        "colab_type": "text"
      },
      "source": [
        "<a href=\"https://colab.research.google.com/github/MK316/SpeechProcessing/blob/main/SpeechRecognition_00.ipynb\" target=\"_parent\"><img src=\"https://colab.research.google.com/assets/colab-badge.svg\" alt=\"Open In Colab\"/></a>"
      ]
    },
    {
      "cell_type": "markdown",
      "source": [
        "# TTS"
      ],
      "metadata": {
        "id": "sboFjhDnS_cX"
      }
    },
    {
      "cell_type": "code",
      "source": [
        "!pip install gTTS"
      ],
      "metadata": {
        "id": "o4po9V_zTIOX"
      },
      "execution_count": null,
      "outputs": []
    },
    {
      "cell_type": "code",
      "source": [
        "from gtts import gTTS"
      ],
      "metadata": {
        "id": "P-XbSSqDTOJT"
      },
      "execution_count": null,
      "outputs": []
    },
    {
      "cell_type": "code",
      "source": [
        "text_to_say = \"This is my first sample read by gTTS.\"\n",
        "language = \"en\"\n",
        "gtts_object = gTTS(text = text_to_say,\n",
        "                   lang = language,\n",
        "                   slow = False)\n",
        "\n",
        "gtts_object.save(\"/content/gtts1.wav\")"
      ],
      "metadata": {
        "id": "KnhHobUbTz2A"
      },
      "execution_count": null,
      "outputs": []
    },
    {
      "cell_type": "code",
      "source": [
        "from IPython.display import Audio"
      ],
      "metadata": {
        "id": "GXThzbMLVW87"
      },
      "execution_count": null,
      "outputs": []
    },
    {
      "cell_type": "code",
      "source": [
        "Audio(\"/content/gtts1.wav\")"
      ],
      "metadata": {
        "colab": {
          "base_uri": "https://localhost:8080/",
          "height": 75
        },
        "id": "3Axgyd8LVqgQ",
        "outputId": "4935f878-b6eb-48ee-d202-654143eee802"
      },
      "execution_count": null,
      "outputs": [
        {
          "output_type": "execute_result",
          "data": {
            "text/plain": [
              "<IPython.lib.display.Audio object>"
            ],
            "text/html": [
              "\n",
              "                <audio controls=\"controls\" >\n",
              "                    <source src=\"data:audio/x-wav;base64,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\" type=\"audio/x-wav\" />\n",
              "                    Your browser does not support the audio element.\n",
              "                </audio>\n",
              "              "
            ]
          },
          "metadata": {},
          "execution_count": 43
        }
      ]
    },
    {
      "cell_type": "markdown",
      "source": [
        "# Speech Recognition (Running but doesn't play sounds for now)"
      ],
      "metadata": {
        "id": "00DgChoDdodK"
      }
    },
    {
      "cell_type": "code",
      "source": [
        "!pip install SpeechRecognition"
      ],
      "metadata": {
        "colab": {
          "base_uri": "https://localhost:8080/"
        },
        "id": "wPRl9JsAKd5I",
        "outputId": "61db98cd-a462-49ce-b08a-7830f47c2a9b"
      },
      "execution_count": null,
      "outputs": [
        {
          "output_type": "stream",
          "name": "stdout",
          "text": [
            "Collecting SpeechRecognition\n",
            "  Downloading SpeechRecognition-3.8.1-py2.py3-none-any.whl (32.8 MB)\n",
            "\u001b[K     |████████████████████████████████| 32.8 MB 1.2 MB/s \n",
            "\u001b[?25hInstalling collected packages: SpeechRecognition\n",
            "Successfully installed SpeechRecognition-3.8.1\n"
          ]
        }
      ]
    },
    {
      "cell_type": "markdown",
      "source": [
        "## pyttsx3 package to use microphone"
      ],
      "metadata": {
        "id": "Q3wuQSlOPi1Z"
      }
    },
    {
      "cell_type": "code",
      "source": [
        "!pip install pyttsx3"
      ],
      "metadata": {
        "colab": {
          "base_uri": "https://localhost:8080/"
        },
        "id": "Ur09_bucPPzU",
        "outputId": "34e31fc3-6570-42a4-8c58-343b8a11118f"
      },
      "execution_count": null,
      "outputs": [
        {
          "output_type": "stream",
          "name": "stdout",
          "text": [
            "Collecting pyttsx3\n",
            "  Downloading pyttsx3-2.90-py3-none-any.whl (39 kB)\n",
            "Installing collected packages: pyttsx3\n",
            "Successfully installed pyttsx3-2.90\n"
          ]
        }
      ]
    },
    {
      "cell_type": "code",
      "source": [
        "!pip install py-espeak-ng"
      ],
      "metadata": {
        "colab": {
          "base_uri": "https://localhost:8080/"
        },
        "id": "QY9UMQTQRg48",
        "outputId": "6462aec5-0c14-4399-a23a-0bc7012d14e3"
      },
      "execution_count": null,
      "outputs": [
        {
          "output_type": "stream",
          "name": "stdout",
          "text": [
            "Collecting py-espeak-ng\n",
            "  Downloading py_espeak_ng-0.1.8-py2.py3-none-any.whl (6.3 kB)\n",
            "Installing collected packages: py-espeak-ng\n",
            "Successfully installed py-espeak-ng-0.1.8\n"
          ]
        }
      ]
    },
    {
      "cell_type": "code",
      "source": [
        "!apt install libespeak-dev"
      ],
      "metadata": {
        "id": "Zg5n_LFoSKpm"
      },
      "execution_count": null,
      "outputs": []
    },
    {
      "cell_type": "code",
      "execution_count": null,
      "metadata": {
        "id": "x0oKIQ9lKUYy"
      },
      "outputs": [],
      "source": [
        "import speech_recognition as sr\n",
        "import pyttsx3"
      ]
    },
    {
      "cell_type": "code",
      "source": [
        "# Initiate the recognizer\n",
        "r = sr.Recognizer()"
      ],
      "metadata": {
        "id": "I455lEOJKZWu"
      },
      "execution_count": null,
      "outputs": []
    },
    {
      "cell_type": "code",
      "source": [
        "# Function to convert text to speech\n",
        "\n",
        "def SpeakText(command):\n",
        "  # Initiate the engine\n",
        "  engine = pyttsx3.init()\n",
        "  engine.say(command)\n",
        "  engine.runAndWait()\n"
      ],
      "metadata": {
        "id": "a39hx0nYPv34"
      },
      "execution_count": null,
      "outputs": []
    },
    {
      "cell_type": "code",
      "source": [
        "SpeakText('Hello')"
      ],
      "metadata": {
        "id": "lEDIrqn4QEdP"
      },
      "execution_count": null,
      "outputs": []
    }
  ]
}